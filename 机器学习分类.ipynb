{
 "cells": [
  {
   "cell_type": "code",
   "execution_count": null,
   "metadata": {},
   "outputs": [],
   "source": [
    "# 使用sklearn的函数来获取MNIST数据集\n",
    "from sklearn.datasets import fetch_openml\n",
    "import numpy as np\n",
    "import os"
   ]
  },
  {
   "cell_type": "code",
   "execution_count": null,
   "metadata": {},
   "outputs": [],
   "source": [
    "# to make this notebook's output stable across runs\n",
    "np.random.seed(42)\n",
    "# To plot pretty figures\n",
    "%matplotlib inline\n",
    "import matplotlib as mpl\n",
    "import matplotlib.pyplot as plt\n",
    "mpl.rc('axes', labelsize=14)\n",
    "mpl.rc('xtick', labelsize=12)\n",
    "mpl.rc('ytick', labelsize=12)\n",
    "# 为了显示中文\n",
    "mpl.rcParams['font.sans-serif'] = [u'SimHei']\n",
    "mpl.rcParams['axes.unicode_minus'] = False"
   ]
  },
  {
   "cell_type": "code",
   "execution_count": null,
   "metadata": {},
   "outputs": [],
   "source": [
    "# 耗时巨大\n",
    "def sort_by_target(mnist):\n",
    "    reorder_train=np.array(sorted([(target,i) \n",
    "       for i, target in enumerate(mnist.target[:60000])]))[:,1]\n",
    "    reorder_test=np.array(sorted([(target,i) \n",
    "       for i, target in enumerate(mnist.target[60000:])]))[:,1]\n",
    "    mnist.data[:60000]=mnist.data[reorder_train]\n",
    "    mnist.target[:60000]=mnist.target[reorder_train]\n",
    "    mnist.data[60000:]=mnist.data[reorder_test+60000]\n",
    "    mnist.target[60000:]=mnist.target[reorder_test+60000]\n",
    "mnist=fetch_openml('mnist_784',version=1,cache=True)\n",
    "mnist.target=mnist.target.astype(np.int8)\n",
    "sort_by_target(mnist)\n",
    "mnist[\"data\"], mnist[\"target\"]\n",
    "mnist.data.shape\n",
    "X,y=mnist[\"data\"],mnist[\"target\"]"
   ]
  },
  {
   "cell_type": "code",
   "execution_count": null,
   "metadata": {},
   "outputs": [],
   "source": [
    "# 展示图片\n",
    "def plot_digit(data):\n",
    "    image = data.reshape(28, 28)\n",
    "    plt.imshow(image, cmap = mpl.cm.binary,interpolation=\"nearest\")\n",
    "    plt.axis(\"on\")\n",
    "some_digit = X[30000]\n",
    "plot_digit(X[30000].reshape(28,28))"
   ]
  },
  {
   "cell_type": "code",
   "execution_count": null,
   "metadata": {},
   "outputs": [],
   "source": [
    "# 更好看的图片展示\n",
    "def plot_digits(instances,images_per_row=10,**options):\n",
    "    size=28\n",
    "    # 每一行有一个\n",
    "    image_pre_row=min(len(instances),images_per_row)\n",
    "    images=[instances.reshape(size,size) for instances in instances]\n",
    "#     有几行\n",
    "    n_rows=(len(instances)-1) // image_pre_row+1\n",
    "    row_images=[]\n",
    "    n_empty=n_rows*image_pre_row-len(instances)\n",
    "    images.append(np.zeros((size,size*n_empty)))\n",
    "    for row in range(n_rows):\n",
    "        # 每一次添加一行\n",
    "        rimages=images[row*image_pre_row:(row+1)*image_pre_row]\n",
    "        # 对添加的每一行的额图片左右连接\n",
    "        row_images.append(np.concatenate(rimages,axis=1))\n",
    "    # 对添加的每一列图片 上下连接\n",
    "    image=np.concatenate(row_images,axis=0)\n",
    "    plt.imshow(image,cmap=mpl.cm.binary,**options)\n",
    "    plt.axis(\"off\")\n",
    "plt.figure(figsize=(9,9))\n",
    "example_images=np.r_[X[:12000:600],X[13000:30600:600],X[30600:60000:590]]\n",
    "plot_digits(example_images,images_per_row=10)\n",
    "plt.show()"
   ]
  },
  {
   "cell_type": "code",
   "execution_count": null,
   "metadata": {},
   "outputs": [],
   "source": [
    "X_train, X_test, y_train, y_test = X[:60000], X[60000:], y[:60000], y[60000:]\n",
    "import numpy as np\n",
    "shuffer_index=np.random.permutation(60000)\n",
    "X_train,y_train=X_train[shuffer_index],y_train[shuffer_index]"
   ]
  },
  {
   "cell_type": "code",
   "execution_count": null,
   "metadata": {},
   "outputs": [],
   "source": [
    "#准备使用支持向量机\n",
    "from sklearn import svm\n",
    "# 获取一个支持向量机模型\n",
    "predictor = svm.SVC(gamma='scale', C=1.0, decision_function_shape='ovr', kernel='rbf')\n",
    "# 把数据丢进去\n",
    "predictor.fit(X_train, y_train)\n",
    "# 预测结果\n",
    "result = predictor.predict(X_test)\n",
    "# 准确率估计\n",
    "accurancy = np.sum(np.equal(result, y_test)) / 10000\n",
    "print(accurancy)\n",
    "some_digit_scores = predictor.decision_function(X_test)\n",
    "some_digit_scores"
   ]
  },
  {
   "cell_type": "code",
   "execution_count": null,
   "metadata": {},
   "outputs": [],
   "source": [
    "import pandas as pd\n",
    "pd.crosstab(y_test.reshape(-1),\n",
    "            result,\n",
    "            rownames=['label'],\n",
    "            colnames=['predict'])"
   ]
  },
  {
   "cell_type": "code",
   "execution_count": null,
   "metadata": {},
   "outputs": [],
   "source": [
    "from sklearn.model_selection import cross_val_predict\n",
    "from sklearn.metrics import roc_auc_score,roc_curve\n",
    "y_train_5=(y_train==5)\n",
    "y_test_5=(y_test==5)\n",
    "# 具体RF的原理，第七章介绍\n",
    "from sklearn.ensemble import RandomForestClassifier\n",
    "forest_clf = RandomForestClassifier(n_estimators=10, random_state=42)\n",
    "forest_clf.fit(X_train,y_train)\n",
    "result=forest_clf.predict(X_test)\n",
    "accurancy = np.sum(np.equal(result, y_test)) / 10000\n",
    "print(accurancy)"
   ]
  },
  {
   "cell_type": "code",
   "execution_count": null,
   "metadata": {},
   "outputs": [],
   "source": [
    "import pandas as pd\n",
    "pd.crosstab(y_test.reshape(-1),\n",
    "            result,\n",
    "            rownames=['label'],\n",
    "            colnames=['predict'])"
   ]
  },
  {
   "cell_type": "code",
   "execution_count": null,
   "metadata": {},
   "outputs": [],
   "source": [
    "y_probas_forest = cross_val_predict(forest_clf, X_train, y_train_5, cv=3,\n",
    "                                    method=\"predict_proba\")\n",
    "y_scores_forest = y_probas_forest[:, 1] # score = proba of positive class\n",
    "fpr_forest, tpr_forest, thresholds_forest = roc_curve(y_train_5,y_scores_forest)\n",
    "plt.figure(figsize=(8, 6))\n",
    "def plot_roc_curve(fpr, tpr, label=None):\n",
    "    plt.plot(fpr, tpr, linewidth=2, label=label)\n",
    "    plt.plot([0, 1], [0, 1], 'k--')\n",
    "    plt.axis([0, 1, 0, 1])\n",
    "    plt.xlabel('False Positive Rate', fontsize=16)\n",
    "    plt.ylabel('True Positive Rate', fontsize=16)\n",
    "\n",
    "y_probas_svm = cross_val_predict(forest_clf, X_train, y_train_5, cv=3,\n",
    "                                    method=\"predict_proba\")\n",
    "y_scores_svm = y_probas_svm[:, 1] # score = proba of positive class\n",
    "fpr_svm, tpr_svm, thresholds_svm = roc_curve(y_train_5,y_scores_svm)\n",
    "\n",
    "plt.figure(figsize=(8, 6))\n",
    "plot_roc_curve(fpr_svm, tpr_svm, \"SVM\")\n",
    "plt.plot(fpr_forest, tpr_forest, \"b:\", linewidth=2, label=\"RF\")\n",
    "plt.title(\"SVM与随机森林的ROC曲线\")\n",
    "plt.legend(loc=\"lower right\", fontsize=16)\n",
    "plt.show()"
   ]
  }
 ],
 "metadata": {
  "kernelspec": {
   "display_name": "Python 3.8.2 64-bit",
   "language": "python",
   "name": "python38264bit22eb23a7880b4ed1bdfdb714fe07ae18"
  },
  "language_info": {
   "codemirror_mode": {
    "name": "ipython",
    "version": 3
   },
   "file_extension": ".py",
   "mimetype": "text/x-python",
   "name": "python",
   "nbconvert_exporter": "python",
   "pygments_lexer": "ipython3",
   "version": "3.8.2"
  }
 },
 "nbformat": 4,
 "nbformat_minor": 4
}
